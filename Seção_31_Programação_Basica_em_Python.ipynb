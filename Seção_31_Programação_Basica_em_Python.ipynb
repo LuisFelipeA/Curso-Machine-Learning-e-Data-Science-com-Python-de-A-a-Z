{
  "cells": [
    {
      "cell_type": "markdown",
      "metadata": {
        "id": "xUcsRN88_HyA"
      },
      "source": [
        "#Revisando Python"
      ]
    },
    {
      "cell_type": "markdown",
      "metadata": {
        "id": "n9sjJrHm7z2G"
      },
      "source": [
        "Ler dois números inteiros, executar e mostrar o resultado das seguintes operações: adição, subtração, multiplicação e divisão"
      ]
    },
    {
      "cell_type": "code",
      "execution_count": null,
      "metadata": {
        "id": "J8jWMTRu5pR6"
      },
      "outputs": [],
      "source": [
        "n1 = int(input(\"Numero 1: \"))\n",
        "n2 = int(input(\"Numero 2: \"))\n",
        "\n",
        "adic = n1 + n2\n",
        "sub = n1 - n2\n",
        "mult = n1 * n2\n",
        "div = n1 / n2\n",
        "\n",
        "print(f\"Adição: {adic}\")\n",
        "print(f\"Subtraçao: {sub}\")\n",
        "print(f\"Multiplicação: {mult}\")\n",
        "print(f\"Divisão: {div}\")"
      ]
    },
    {
      "cell_type": "markdown",
      "metadata": {
        "id": "DJ03f05h71hX"
      },
      "source": [
        "Efetuar o cálculo da quantidade de litros de combustível gasto em uma viagem, utilizando um automóvel que faz 12 Km por litro. Para obter o cálculo, o usuário deve fornecer o tempo gasto na viagem e a velocidade média durante ela. Desta forma, será possível obter a distância percorrida com a fórmula DISTANCIA = TEMPO * VELOCIDADE. Tendo o valor da distância, basta calcular a quantidade de litros de combustível utilizada na viagem, com a fórmula: LITROS_USADOS = DISTANCIA / 12. O programa deve apresentar os valores da velocidade média, tempo gasto na viagem, a distância percorrida e a quantidade de litros utilizada na viagem"
      ]
    },
    {
      "cell_type": "code",
      "execution_count": null,
      "metadata": {
        "id": "bjKHIxfH8zym"
      },
      "outputs": [],
      "source": [
        "tempo = int(input(\"Tempo gasto: \"))\n",
        "velocidade = int(input(\"Velocidade Média: \"))\n",
        "\n",
        "distancia = tempo * velocidade\n",
        "\n",
        "qtd_litros = distancia / 12\n",
        "\n",
        "print(f\"Velocidade Media: {velocidade}km/h\")\n",
        "print(f\"Tempo Gasto: {tempo}h\")\n",
        "print(f\"Distancia Percorrida: {distancia}Km\")\n",
        "print(f\"Quantidade de Combustivel: {qtd_litros:.2f}L\")"
      ]
    },
    {
      "cell_type": "markdown",
      "metadata": {
        "id": "J_MbSnyl_Ney"
      },
      "source": [
        "Leia a idade do usuário e classifique-o em:\n",
        "- Criança – 0 a 12 anos\n",
        "- Adolescente – 13 a 17 anos\n",
        "- Adulto – acima de 18 anos\n",
        "-Se o usuário digitar um número negativo, mostrar a mensagem que a idade é inválida\n",
        "\n"
      ]
    },
    {
      "cell_type": "code",
      "execution_count": null,
      "metadata": {
        "colab": {
          "base_uri": "https://localhost:8080/"
        },
        "id": "5xZJyj4m-U45",
        "outputId": "0a262b7f-01df-4f66-885f-77ae0048f5c0"
      },
      "outputs": [
        {
          "name": "stdout",
          "output_type": "stream",
          "text": [
            "Digite a idade: 26\n",
            "Adulto\n"
          ]
        }
      ],
      "source": [
        "idade = int(input(\"Digite a idade: \"))\n",
        "\n",
        "if idade >= 0:\n",
        "  if idade >= 18:\n",
        "    print(\"Adulto\")\n",
        "  else:\n",
        "    if idade >= 13 and idade <= 17:\n",
        "      print(\"Adolescente\")\n",
        "    else:\n",
        "      print(\"Criança\")\n",
        "else:\n",
        "  print(\"Idade Invalida\")\n"
      ]
    },
    {
      "cell_type": "markdown",
      "metadata": {
        "id": "_dmOhV7L_dtV"
      },
      "source": [
        "Calcular a média de um aluno que cursou a disciplina de Programação I, a partir da leitura das notas M1, M2 e M3; passando por um cálculo da média aritmética. Após a média calculada, devemos anunciar se o aluno foi aprovado, reprovado ou pegou exame\n",
        "- Se a média estiver entre 0.0 e 4.0, o aluno está reprovado\n",
        "- Se a média estiver entre 4.1 e 6.0, o aluno pegou exame\n",
        "- Se a média for maior do que 6.0, o aluno está aprovado\n",
        "- Se o aluno pegou exame, deve ser lida a nota do exame. Se a nota do exame for maior do que 6.0, está aprovado, senão; está reprovado"
      ]
    },
    {
      "cell_type": "code",
      "execution_count": null,
      "metadata": {
        "id": "6on-P7XO-6sn"
      },
      "outputs": [],
      "source": [
        "m1 = float(input(\"Nota 1: \"))\n",
        "m2 = float(input(\"Nota 2: \"))\n",
        "m3 = float(input(\"Nota 3: \"))\n",
        "\n",
        "media = (m1 + m2 + m3) / 3\n",
        "\n",
        "print (f\"Media: {media:.2f}\")\n",
        "\n",
        "if media <= 4:\n",
        "  print(\"Reprovado\")\n",
        "else:\n",
        "  if media > 6:\n",
        "    print(\"Aprovado\")\n",
        "  else:\n",
        "    print(\"Ficou de Exame\")\n",
        "    exame = float(input(\"Nota Exame: \"))\n",
        "    if exame > 6:\n",
        "      print(\"Aprovado\")\n",
        "    else:\n",
        "       print(\"Reprovado\")"
      ]
    },
    {
      "cell_type": "markdown",
      "metadata": {
        "id": "LWxpFq_eFVjA"
      },
      "source": [
        "Ler 5 notas e informar a média"
      ]
    },
    {
      "cell_type": "code",
      "execution_count": null,
      "metadata": {
        "id": "n0feL8QsB6CB"
      },
      "outputs": [],
      "source": [
        "soma = 0\n",
        "\n",
        "for i in range (5):\n",
        "  nota = float(input(f\"Nota {i+1}: \"))\n",
        "  soma = soma + nota\n",
        "\n",
        "media = soma / 5\n",
        "print(f\"Média: {media:.2f}\")\n"
      ]
    },
    {
      "cell_type": "markdown",
      "metadata": {
        "id": "3VcejqEmFZI6"
      },
      "source": [
        "Imprimir a tabuada do número 3 (3 x 1 = 3 ; 3 x 10 = 30)"
      ]
    },
    {
      "cell_type": "code",
      "execution_count": null,
      "metadata": {
        "id": "QJCw5u5QHbvP"
      },
      "outputs": [],
      "source": [
        "i = 0\n",
        "while i < 10:\n",
        "  i = i + 1\n",
        "  print(f\"3 x {i} = {3*i}\")"
      ]
    },
    {
      "cell_type": "markdown",
      "metadata": {
        "id": "bIFfLoLdEWrJ"
      },
      "source": [
        "Lista: Crie uma estrutura de repetição para fazer a leitura de 5 números inteiros e os armazene dentro de uma lista. Após a leitura, crie outra estrutura de repetição para somar todos os valores digitados"
      ]
    },
    {
      "cell_type": "code",
      "execution_count": null,
      "metadata": {
        "colab": {
          "base_uri": "https://localhost:8080/"
        },
        "id": "hgpGO-w5HoOe",
        "outputId": "0e273583-1bac-4445-8a81-ef0712da1bbc"
      },
      "outputs": [
        {
          "output_type": "execute_result",
          "data": {
            "text/plain": [
              "15"
            ]
          },
          "metadata": {},
          "execution_count": 20
        }
      ],
      "source": [
        "lista = []\n",
        "for i in range(1, 6):\n",
        "  lista.append(i)\n",
        "\n",
        "lista\n",
        "\n",
        "soma = 0\n",
        "\n",
        "for i in lista:\n",
        "  soma += i\n",
        "\n",
        "soma"
      ]
    },
    {
      "cell_type": "code",
      "source": [
        "import numpy as np\n",
        "\n",
        "lista = []\n",
        "for i in range(1, 6):\n",
        "  lista.append(i)\n",
        "\n",
        "np.array(lista).sum()"
      ],
      "metadata": {
        "colab": {
          "base_uri": "https://localhost:8080/"
        },
        "id": "sDY6N2NXO94J",
        "outputId": "366707c6-7e3b-4be4-e8f1-617a8eeeb580"
      },
      "execution_count": null,
      "outputs": [
        {
          "output_type": "execute_result",
          "data": {
            "text/plain": [
              "15"
            ]
          },
          "metadata": {},
          "execution_count": 22
        }
      ]
    },
    {
      "cell_type": "markdown",
      "metadata": {
        "id": "I5Fhgpx_EZiv"
      },
      "source": [
        "Dicionário: Crie um dicionário para armazenar o nome e a nota de 3 alunos, fazendo a leitura dos valores por meio de uma estrutura de repetição. Depois, crie uma nova estrutura de repetição para somar todas as notas e retornar a média"
      ]
    },
    {
      "cell_type": "code",
      "execution_count": null,
      "metadata": {
        "colab": {
          "base_uri": "https://localhost:8080/"
        },
        "id": "iZnP8UF5Ee4a",
        "outputId": "b807818c-0559-460f-9204-74b57d09282a"
      },
      "outputs": [
        {
          "output_type": "stream",
          "name": "stdout",
          "text": [
            "Digite o nome: Felipe\n",
            "Digite a nota: 10\n",
            "Digite o nome: Luis\n",
            "Digite a nota: 8\n",
            "Digite o nome: Joaquim\n",
            "Digite a nota: 4\n",
            "Nota do Felipe: 10.0\n",
            "Nota do Luis: 8.0\n",
            "Nota do Joaquim: 4.0\n"
          ]
        }
      ],
      "source": [
        "lista_de_dicionarios = []\n",
        "\n",
        "for i in range(3):\n",
        "  dicionario = {}\n",
        "  dicionario['nome'] = input('Digite o nome: ')\n",
        "  dicionario['nota'] = float(input('Digite a nota: '))\n",
        "  lista_de_dicionarios.append(dicionario)\n",
        "\n",
        "for dicionario in lista_de_dicionarios:\n",
        "  print(f\"Nota do {dicionario['nome']}: {dicionario['nota']}\")"
      ]
    },
    {
      "cell_type": "markdown",
      "metadata": {
        "id": "yBf2j1xoEfS_"
      },
      "source": [
        "Matriz: Dada a matriz abaixo, construa uma estrutura de repetição para percorrer e somar todos os elementos da matriz"
      ]
    },
    {
      "cell_type": "code",
      "execution_count": null,
      "metadata": {
        "id": "W944cizyEf-t",
        "colab": {
          "base_uri": "https://localhost:8080/"
        },
        "outputId": "66ba6f14-c3b0-4501-88c3-0568ab17fccc"
      },
      "outputs": [
        {
          "output_type": "execute_result",
          "data": {
            "text/plain": [
              "30"
            ]
          },
          "metadata": {},
          "execution_count": 19
        }
      ],
      "source": [
        "import numpy as np\n",
        "\n",
        "matriz = np.array([[3,3,4], [4,2,4], [5,3,2]])\n",
        "\n",
        "soma = 0\n",
        "\n",
        "for i in range(matriz.shape[0]):\n",
        "  # print(matriz[i])\n",
        "  for j in range(matriz.shape[1]):\n",
        "    soma = soma + matriz[i][j]\n",
        "\n",
        "soma"
      ]
    },
    {
      "cell_type": "markdown",
      "source": [
        "Ler uma temperatura em graus Celsius e apresentá-la convertida em graus Fahrenheit. A fórmula de conversão é F = (9 * C + 160) / 5, na qual F é a temperatura em Fahrenheit e C é a temperatura em graus Celsius\n",
        "- Função para ler e retorna o valor da temperatura (não recebe parâmetro)\n",
        "- Função para fazer o cálculo (recebe como parâmetro a temperatura em graus Celsius)\n",
        "- Função para mostrar o resultado, recebendo como parâmetro o valor e fazendo a impressão"
      ],
      "metadata": {
        "id": "qcGRoBWHJAn9"
      }
    },
    {
      "cell_type": "code",
      "source": [
        "def ConverteTemperatura():\n",
        "  c = float(input('Digite a temperatura (ºC): '))\n",
        "  f = (9 * c + 160) / 5\n",
        "  return f'Temperatura: {f}ºF'\n",
        "\n",
        "ConverteTemperatura()\n"
      ],
      "metadata": {
        "colab": {
          "base_uri": "https://localhost:8080/",
          "height": 54
        },
        "id": "JBwUgmlXJDqK",
        "outputId": "f06ac9d0-d92e-49f3-b455-90aecdbd1930"
      },
      "execution_count": null,
      "outputs": [
        {
          "name": "stdout",
          "output_type": "stream",
          "text": [
            "Digite a temperatura (ºC): 23\n"
          ]
        },
        {
          "output_type": "execute_result",
          "data": {
            "text/plain": [
              "'Temperatura: 73.4ºF'"
            ],
            "application/vnd.google.colaboratory.intrinsic+json": {
              "type": "string"
            }
          },
          "metadata": {},
          "execution_count": 5
        }
      ]
    },
    {
      "cell_type": "code",
      "source": [
        "def ConverteTemperatura(celsius):\n",
        "  f = (9 * celsius + 160) / 5\n",
        "  return f\n",
        "\n",
        "ConverteTemperatura(23)"
      ],
      "metadata": {
        "colab": {
          "base_uri": "https://localhost:8080/"
        },
        "id": "NHjCQmxCN0_X",
        "outputId": "4d2e99ae-f98e-45df-c822-a7c11996ea5b"
      },
      "execution_count": null,
      "outputs": [
        {
          "output_type": "execute_result",
          "data": {
            "text/plain": [
              "73.4"
            ]
          },
          "metadata": {},
          "execution_count": 7
        }
      ]
    },
    {
      "cell_type": "code",
      "source": [
        "def ConverteTemperatura(celsius):\n",
        "  f = (9 * celsius + 160) / 5\n",
        "  return f'Temperatura: {f}ºF'\n",
        "\n",
        "ConverteTemperatura(23)"
      ],
      "metadata": {
        "colab": {
          "base_uri": "https://localhost:8080/",
          "height": 36
        },
        "id": "yWFc-smrM6-e",
        "outputId": "99d7e7f0-0a93-4299-80c3-398494ee9364"
      },
      "execution_count": null,
      "outputs": [
        {
          "output_type": "execute_result",
          "data": {
            "text/plain": [
              "'Temperatura: 73.4ºF'"
            ],
            "application/vnd.google.colaboratory.intrinsic+json": {
              "type": "string"
            }
          },
          "metadata": {},
          "execution_count": 6
        }
      ]
    },
    {
      "cell_type": "markdown",
      "source": [
        "Efetuar o cálculo da quantidade de litros de combustível gasto em uma viagem, utilizando um automóvel que faz 12 Km por litro. Para obter o cálculo, o usuário deve fornecer o tempo gasto na viagem e a velocidade média durante ela. Desta forma, será possível obter a distância percorrida com a fórmula DISTANCIA = TEMPO * VELOCIDADE. Tendo o valor da distância, basta calcular a quantidade de litros de combustível utilizada na viagem, com a fórmula: LITROS_USADOS = DISTANCIA / 12. O programa deve apresentar os valores da velocidade média, tempo gasto na viagem, a distância percorrida e a quantidade de litros utilizada na viagem\n",
        "- Função para ler os valores (não recebe parâmetro e retorna os dois valores)\n",
        "- Função para calcular a distância (recebe como parâmetro o tempo e a velocidade e retorna a distância)\n",
        "- Função para calcular a quantidade de litros (recebe como parâmetro a distância e retorna os litros)\n",
        "- Função para apresentar o resultado (recebe como parâmetro os valores e somente imprime o resultado)"
      ],
      "metadata": {
        "id": "GJks3ai6KgPP"
      }
    },
    {
      "cell_type": "code",
      "source": [
        "def LerValores():\n",
        "  t = float(input('Tempo de Viagem: '))\n",
        "  v = float(input('Velocidade Média: '))\n",
        "  return t,v\n",
        "\n",
        "def Distancia(t,v):\n",
        "  d = t * v\n",
        "  return d\n",
        "\n",
        "def QuantidadeLitros(d):\n",
        "  l = d / 12\n",
        "  return l\n",
        "\n",
        "def ImprimirResultado(t,v,d,l):\n",
        "  print(f'''\n",
        "      Distancia: {d:.2f} km\n",
        "      Tempo: {t:.2f} h\n",
        "      Velocidade Média: {v:.2f1l} km/h\n",
        "      Quantidade Litros: {l:.1f} L\n",
        "    ''')\n",
        "\n",
        "tempo, velocidade = LerValores()\n",
        "distancia = Distancia(tempo, velocidade)\n",
        "litros = QuantidadeLitros(distancia)\n",
        "\n",
        "ImprimirResultado(tempo, velocidade, distancia, litros)\n"
      ],
      "metadata": {
        "id": "DnoO4if-OCgw",
        "colab": {
          "base_uri": "https://localhost:8080/"
        },
        "outputId": "8b9bf5d6-4d4e-4025-a858-475db9512803"
      },
      "execution_count": null,
      "outputs": [
        {
          "output_type": "stream",
          "name": "stdout",
          "text": [
            "Tempo de Viagem: 2\n",
            "Velocidade Média: 110\n",
            "\n",
            "      Distancia: 220.00 km \n",
            "      Tempo: 2.00 h \n",
            "      Velocidade Média: 110.00 km/h \n",
            "      Quantidade Litros: 18.3 L\n",
            "    \n"
          ]
        }
      ]
    },
    {
      "cell_type": "markdown",
      "source": [
        "Crie um arquivo .py com duas funções\n",
        "- Função para ler um string (recebe como parâmetro uma mensagem e retorna o que o usuário digitou)\n",
        "- Função para ler um número float (recebe como parâmetro uma mensagem e retorna o que o usuário digitou)\n",
        "\n",
        "\n",
        "\n",
        "Importar o arquivo criado no Google Colab e testar as funções"
      ],
      "metadata": {
        "id": "1GO8LtDBZ48q"
      }
    },
    {
      "cell_type": "code",
      "source": [
        "import Utilitarios as ut"
      ],
      "metadata": {
        "id": "QYZbM-oIaEQs"
      },
      "execution_count": null,
      "outputs": []
    },
    {
      "cell_type": "code",
      "source": [
        "ut.LerString('Olá')"
      ],
      "metadata": {
        "colab": {
          "base_uri": "https://localhost:8080/",
          "height": 36
        },
        "id": "-Lze7B1Eaml5",
        "outputId": "8aafccb5-4115-4d24-a791-ec72bff74d51"
      },
      "execution_count": null,
      "outputs": [
        {
          "output_type": "execute_result",
          "data": {
            "text/plain": [
              "'Olá'"
            ],
            "application/vnd.google.colaboratory.intrinsic+json": {
              "type": "string"
            }
          },
          "metadata": {},
          "execution_count": 6
        }
      ]
    },
    {
      "cell_type": "code",
      "source": [
        "ut.LerNumero(22)"
      ],
      "metadata": {
        "id": "CNbL9IcDao_s",
        "outputId": "e258072e-993f-4d8d-af1d-a98ee97e6e2b",
        "colab": {
          "base_uri": "https://localhost:8080/"
        }
      },
      "execution_count": null,
      "outputs": [
        {
          "output_type": "execute_result",
          "data": {
            "text/plain": [
              "22"
            ]
          },
          "metadata": {},
          "execution_count": 7
        }
      ]
    },
    {
      "cell_type": "markdown",
      "source": [
        "Crie uma lista vazia e faça a leitura de dois valores do tipo float, colocando cada um dos valores nas primeiras posições da lista (o valor1 ficará na posição 0 da lista e o valor2 ficará na posição 1 da lista). Faça a divisão dos dois valores e trate as seguintes exceções:\n",
        "- ValueError: se o usuário digitar um caracter\n",
        "- ZeroDivisionError: se o usuário digitar zero e ocorrer erro na divisão\n",
        "- IndexError: caso a divisão seja feita levando em consideração posições que não existem na lista\n",
        "- KeyboardInterrupt: caso o usuário interrompa a execução\n",
        "\n",
        "\n",
        "\n",
        "Mostre uma mensagem personalizada na ocorrência de cada um desses erros\n",
        "\n"
      ],
      "metadata": {
        "id": "Izh5fbt4dNJI"
      }
    },
    {
      "cell_type": "code",
      "source": [
        "lista = []\n",
        "\n",
        "for i in range(2):\n",
        "  while True:\n",
        "    try:\n",
        "      n = float(input('Digite um valor: '))\n",
        "      lista.append(n)\n",
        "      break\n",
        "    except ValueError:\n",
        "      print('Valor Invalido')\n",
        "    except KeyboardInterrupt:\n",
        "      print('Usuario Interrompeu a aplicação')\n",
        "      break\n",
        "\n",
        "\n",
        "\n",
        "\n",
        "while True:\n",
        "  try:\n",
        "    div = lista[0] / lista[1]\n",
        "  except ZeroDivisionError:\n",
        "    print('Não é possivel dividir 0')\n",
        "    break\n",
        "  except IndexError:\n",
        "    print('Valores não existem na lista')\n",
        "    break\n",
        "  except KeyboardInterrupt:\n",
        "     print('Usuario Interrompeu a aplicação')\n",
        "     break\n",
        "  else:\n",
        "    print(f'Divisão = {div}')\n",
        "    break"
      ],
      "metadata": {
        "colab": {
          "base_uri": "https://localhost:8080/"
        },
        "id": "4FoAIUcqdN4K",
        "outputId": "0474212a-3707-4a61-d850-b76c75ab4ed5"
      },
      "execution_count": null,
      "outputs": [
        {
          "output_type": "stream",
          "name": "stdout",
          "text": [
            "Digite um valor: 0\n",
            "Digite um valor: 0\n",
            "Não é possivel dividir 0\n"
          ]
        }
      ]
    },
    {
      "cell_type": "markdown",
      "source": [
        "Considerando o dicionário com o nome dos alunos e suas respectivas notas abaixo, crie uma estrutura de repetição para percorrer cada elemento do dicionário para gravar cada aluno em um novo arquivo de texto\n",
        "- Cada aluno deve ocupar uma linha do novo arquivo de texto\n",
        "- O formato deve ser: nome,nota (Pedro,8.0)\n",
        "- Após a criação do arquivo de texto, faça a leitura do arquivo e mostre todos os alunos"
      ],
      "metadata": {
        "id": "qF3Z4JwEnaYb"
      }
    },
    {
      "cell_type": "code",
      "source": [
        "dic_alunos = [{'nome':'Luis','nota': 10.0}, {'nome':'Felipe','nota': 9.5}]\n",
        "\n",
        "with open('alunos.txt', 'w') as texto:\n",
        "  for aluno in dic_alunos:\n",
        "    texto.write(f\"{aluno['nome']} - {aluno['nota']}\\n\")"
      ],
      "metadata": {
        "id": "3m4hU19BnbTC"
      },
      "execution_count": null,
      "outputs": []
    },
    {
      "cell_type": "code",
      "source": [
        "with open('/content/alunos.txt') as texto:\n",
        "  alunos = texto.readlines()\n",
        "\n",
        "alunos"
      ],
      "metadata": {
        "colab": {
          "base_uri": "https://localhost:8080/"
        },
        "id": "J5SaZoJ7rn4z",
        "outputId": "9adbf331-62d0-48d0-dc23-08504e84c52d"
      },
      "execution_count": null,
      "outputs": [
        {
          "output_type": "execute_result",
          "data": {
            "text/plain": [
              "['Luis - 10.0\\n', 'Felipe - 9.5\\n']"
            ]
          },
          "metadata": {},
          "execution_count": 11
        }
      ]
    },
    {
      "cell_type": "markdown",
      "source": [
        "Crie expressões regulares para extrair as seguintes informações do texto abaixo (use a função findall):\n",
        "- Números\n",
        "- CEPs\n",
        "- URLs"
      ],
      "metadata": {
        "id": "eq_TweVQuE6s"
      }
    },
    {
      "cell_type": "code",
      "source": [
        "texto = \"Minha casa fica na rua Carneiro, 78. O CEP é 88388-000 e 11111-111 meu site é https://www.iaexpert.academy http://iaexpert.com.br\""
      ],
      "metadata": {
        "id": "13aVunKKsJOD"
      },
      "execution_count": null,
      "outputs": []
    },
    {
      "cell_type": "code",
      "source": [
        "import re\n",
        "\n",
        "# Numeros\n",
        "re.findall('\\d{2}\\.',texto)\n"
      ],
      "metadata": {
        "id": "Cj5ac4nLugxg",
        "colab": {
          "base_uri": "https://localhost:8080/"
        },
        "outputId": "a0971660-7955-4872-f131-b9b9341541c4"
      },
      "execution_count": null,
      "outputs": [
        {
          "output_type": "execute_result",
          "data": {
            "text/plain": [
              "['78.']"
            ]
          },
          "metadata": {},
          "execution_count": 6
        }
      ]
    },
    {
      "cell_type": "code",
      "source": [
        "# CEPs\n",
        "re.findall('\\d{5}\\-\\d{3}',texto)"
      ],
      "metadata": {
        "colab": {
          "base_uri": "https://localhost:8080/"
        },
        "id": "NxEDrrh7x5Xb",
        "outputId": "269aded8-2e9e-4200-d49e-cce15ff11ce3"
      },
      "execution_count": null,
      "outputs": [
        {
          "output_type": "execute_result",
          "data": {
            "text/plain": [
              "['88388-000', '11111-111']"
            ]
          },
          "metadata": {},
          "execution_count": 8
        }
      ]
    },
    {
      "cell_type": "code",
      "source": [
        "# URLs\n",
        "re.findall('https?:[A-Za-z0-9./]+',texto)"
      ],
      "metadata": {
        "colab": {
          "base_uri": "https://localhost:8080/"
        },
        "id": "98FPalHEx7re",
        "outputId": "e2c9200c-7b12-45da-b79d-dbca983149de"
      },
      "execution_count": null,
      "outputs": [
        {
          "output_type": "execute_result",
          "data": {
            "text/plain": [
              "['https://www.iaexpert.academy', 'http://iaexpert.com.br']"
            ]
          },
          "metadata": {},
          "execution_count": 17
        }
      ]
    },
    {
      "cell_type": "markdown",
      "source": [
        "Crie uma classe chamada aluno com os seguintes atributos:\n",
        "- Nome\n",
        "- Nota 1\n",
        "- Nota 2\n",
        "- Crie um construtor para a classe (__init__)\n",
        "\n",
        "\n",
        "\n",
        "Crie as seguintes funções (métodos):\n",
        "- Calcula média, retornando a média aritmética entre as notas\n",
        "- Mostra dados, que somente imprime o valor de todos os atributos\n",
        "- Resultado, que verifica se o aluno está aprovado ou reprovado (se a média for maior ou igual a 6.0, o aluno está aprovado)\n",
        "\n",
        "\n",
        "\n",
        "Crie dois objetos (aluno1 e aluno2) e teste as funções\n",
        "\n"
      ],
      "metadata": {
        "id": "cjTp8L2a0s8g"
      }
    },
    {
      "cell_type": "code",
      "source": [
        "class Aluno:\n",
        "  def __init__(self, nome, nota1, nota2):\n",
        "    self.nome = nome\n",
        "    self.nota1 = nota1\n",
        "    self.nota2 = nota2\n",
        "\n",
        "  def Media(self):\n",
        "    media = (self.nota1 + self.nota2) / 2\n",
        "    return media\n",
        "\n",
        "  def MostrarDados(self):\n",
        "    dados = f\"Nome: {self.nome} - Nota 1: {self.nota1} - Nota 2: {self.nota2}\"\n",
        "    return dados\n",
        "\n",
        "  def Resultado(self):\n",
        "    if self.Media() >= 6:\n",
        "      print(\"Aluno Aprovado\")\n",
        "    else:\n",
        "      print(\"Aluno Reprovado\")\n"
      ],
      "metadata": {
        "id": "msiLa09S0tiI"
      },
      "execution_count": 13,
      "outputs": []
    },
    {
      "cell_type": "code",
      "source": [
        "aluno1 = Aluno(\"Luis\", 7, 8)\n",
        "aluno2 = Aluno(\"Felipe\", 9, 10)"
      ],
      "metadata": {
        "id": "Oae4qD5B2JKD"
      },
      "execution_count": 14,
      "outputs": []
    },
    {
      "cell_type": "code",
      "source": [
        "aluno1.Media()"
      ],
      "metadata": {
        "colab": {
          "base_uri": "https://localhost:8080/"
        },
        "id": "WCs1dfl92mD-",
        "outputId": "17f6ed70-ce0d-409a-a07d-48f7959b133d"
      },
      "execution_count": 15,
      "outputs": [
        {
          "output_type": "execute_result",
          "data": {
            "text/plain": [
              "7.5"
            ]
          },
          "metadata": {},
          "execution_count": 15
        }
      ]
    },
    {
      "cell_type": "code",
      "source": [
        "aluno1.MostrarDados()"
      ],
      "metadata": {
        "colab": {
          "base_uri": "https://localhost:8080/",
          "height": 36
        },
        "id": "J-bjAdUf2vGV",
        "outputId": "74142d99-c5e1-4756-a338-14033bd3ed26"
      },
      "execution_count": 16,
      "outputs": [
        {
          "output_type": "execute_result",
          "data": {
            "text/plain": [
              "'Nome: Luis - Nota 1: 7 - Nota 2: 8'"
            ],
            "application/vnd.google.colaboratory.intrinsic+json": {
              "type": "string"
            }
          },
          "metadata": {},
          "execution_count": 16
        }
      ]
    },
    {
      "cell_type": "code",
      "source": [
        "aluno1.Resultado()"
      ],
      "metadata": {
        "colab": {
          "base_uri": "https://localhost:8080/"
        },
        "id": "mB1ZmUqz2w2F",
        "outputId": "a5fd2027-a88a-4a39-efce-fb78a005073f"
      },
      "execution_count": 17,
      "outputs": [
        {
          "output_type": "stream",
          "name": "stdout",
          "text": [
            "Aluno Aprovado\n"
          ]
        }
      ]
    },
    {
      "cell_type": "code",
      "source": [
        "aluno2.Media()"
      ],
      "metadata": {
        "colab": {
          "base_uri": "https://localhost:8080/"
        },
        "id": "nxqkVdqp29QB",
        "outputId": "46b62431-34d8-4d89-ddc2-f9c1b85b8dad"
      },
      "execution_count": 20,
      "outputs": [
        {
          "output_type": "execute_result",
          "data": {
            "text/plain": [
              "9.5"
            ]
          },
          "metadata": {},
          "execution_count": 20
        }
      ]
    },
    {
      "cell_type": "code",
      "source": [
        "aluno2.MostrarDados()"
      ],
      "metadata": {
        "colab": {
          "base_uri": "https://localhost:8080/",
          "height": 36
        },
        "id": "v3ban4mr3Ehw",
        "outputId": "0a5f4f4a-6459-4a7b-f0e7-af7eb457d90d"
      },
      "execution_count": 21,
      "outputs": [
        {
          "output_type": "execute_result",
          "data": {
            "text/plain": [
              "'Nome: Felipe - Nota 1: 9 - Nota 2: 10'"
            ],
            "application/vnd.google.colaboratory.intrinsic+json": {
              "type": "string"
            }
          },
          "metadata": {},
          "execution_count": 21
        }
      ]
    },
    {
      "cell_type": "code",
      "source": [
        "aluno2.Resultado()"
      ],
      "metadata": {
        "colab": {
          "base_uri": "https://localhost:8080/"
        },
        "id": "FXaBPsC03HM_",
        "outputId": "7a67b41b-88b5-4a26-94a9-7ce54dc6a45c"
      },
      "execution_count": 22,
      "outputs": [
        {
          "output_type": "stream",
          "name": "stdout",
          "text": [
            "Aluno Aprovado\n"
          ]
        }
      ]
    }
  ],
  "metadata": {
    "colab": {
      "provenance": [],
      "toc_visible": true
    },
    "kernelspec": {
      "display_name": "Python 3",
      "name": "python3"
    },
    "language_info": {
      "name": "python"
    }
  },
  "nbformat": 4,
  "nbformat_minor": 0
}